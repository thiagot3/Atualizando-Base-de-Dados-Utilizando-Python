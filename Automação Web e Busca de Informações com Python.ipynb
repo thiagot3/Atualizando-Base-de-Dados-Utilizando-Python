{
 "cells": [
  {
   "cell_type": "markdown",
   "metadata": {},
   "source": [
    "# Automação Web e Busca de Informações com Python\n",
    "\n",
    "#### Desafio: \n",
    "\n",
    "Trabalhamos em uma importadora e o preço dos nossos produtos é vinculado a cotação de:\n",
    "- Dólar\n",
    "- Euro\n",
    "- Ouro\n",
    "\n",
    "Precisamos pegar na internet, de forma automática, a cotação desses 3 itens e saber quanto devemos cobrar pelos nossos produtos, considerando uma margem de contribuição que temos na nossa base de dados.\n",
    "\n",
    "Base de Dados: https://drive.google.com/drive/folders/1KmAdo593nD8J9QBaZxPOG1yxHZua4Rtv?usp=sharing\n",
    "\n",
    "Para isso, vamos criar uma automação web:"
   ]
  },
  {
   "cell_type": "markdown",
   "metadata": {},
   "source": [
    "#### Instalar Selenium"
   ]
  },
  {
   "cell_type": "code",
   "execution_count": 69,
   "metadata": {},
   "outputs": [],
   "source": [
    "#!pip install selenium"
   ]
  },
  {
   "cell_type": "markdown",
   "metadata": {},
   "source": [
    "#### Importando WebDriver do Selenium "
   ]
  },
  {
   "cell_type": "code",
   "execution_count": 70,
   "metadata": {},
   "outputs": [],
   "source": [
    "import pandas as pd #Biblioteca de análise de dados\n",
    "from selenium import webdriver #Controlar navegador\n",
    "from selenium.webdriver.common.keys import Keys #Usar teclado\n",
    "from selenium.webdriver.common.by import By #Localizador de itens do navegador"
   ]
  },
  {
   "cell_type": "markdown",
   "metadata": {},
   "source": [
    "#### Utilizando webdriver para buscar as cotações"
   ]
  },
  {
   "cell_type": "code",
   "execution_count": 71,
   "metadata": {},
   "outputs": [
    {
     "name": "stdout",
     "output_type": "stream",
     "text": [
      "Cotação do Dólar:  5.0116\n",
      "Cotação do Euro:  5.5120984680000005\n",
      "Cotação do Ouro:  324.63\n"
     ]
    }
   ],
   "source": [
    "#Abrindo navegador\n",
    "navegador = webdriver.Chrome()\n",
    "#Abrindo Site\n",
    "navegador.get(\"https://google.com\")\n",
    "#Referenciando elemento de input da página pelo XPath, escrevendo e teclando 'Enter'\n",
    "navegador.find_element(By.XPATH,\n",
    "                       '/html/body/div[1]/div[3]/form/div[1]/div[1]/div[1]/div/div[2]/input'\n",
    "                      ).send_keys(\"Cotação dólar\", Keys.ENTER)\n",
    "#cot_dolar recebe 'data-value', que contém o valor da cotação\n",
    "cot_dolar = navegador.find_element(By.XPATH, \n",
    "                                   '//*[@id=\"knowledge-currency__updatable-data-column\"]/div[1]/div[2]/span[1]'\n",
    "                                  ).get_attribute('data-value')\n",
    "#Mostra cotação no console\n",
    "print(\"Cotação do Dólar: \",cot_dolar)\n",
    "\n",
    "#Abrindo Site\n",
    "navegador.get(\"https://google.com\")\n",
    "#Referenciando elemento de input da página pelo XPath, escrevendo e teclando 'Enter'\n",
    "navegador.find_element(By.XPATH,\n",
    "                       '/html/body/div[1]/div[3]/form/div[1]/div[1]/div[1]/div/div[2]/input'\n",
    "                      ).send_keys(\"Cotação euro\", Keys.ENTER)\n",
    "#cot_euro recebe 'data-value', que contém o valor da cotação do euro\n",
    "cot_euro = navegador.find_element(By.XPATH,\n",
    "                                   '//*[@id=\"knowledge-currency__updatable-data-column\"]/div[1]/div[2]/span[1]'\n",
    "                                 ).get_attribute('data-value')\n",
    "print(\"Cotação do Euro: \",cot_euro)\n",
    "\n",
    "navegador.get('https://www.melhorcambio.com/ouro-hoje')\n",
    "cot_ouro = navegador.find_element(By.XPATH,\n",
    "                                   '//*[@id=\"comercial\"]'\n",
    "                                 ).get_attribute('value')\n",
    "#cot_ouro recebe 'data-value', que contém o valor da cotação do ouro\n",
    "cot_ouro = cot_ouro.replace(\",\",\".\")\n",
    "print(\"Cotação do Ouro: \",cot_ouro)\n",
    "\n",
    "navegador.quit()"
   ]
  },
  {
   "cell_type": "markdown",
   "metadata": {},
   "source": [
    "### Atualizando a base de preços com as novas cotações"
   ]
  },
  {
   "cell_type": "markdown",
   "metadata": {},
   "source": [
    "- Importando a base de dados"
   ]
  },
  {
   "cell_type": "code",
   "execution_count": 72,
   "metadata": {
    "scrolled": true
   },
   "outputs": [],
   "source": [
    "tabela = pd.read_excel(\"Produtos.xlsx\")"
   ]
  },
  {
   "cell_type": "markdown",
   "metadata": {},
   "source": [
    "- Atualizando os preços e o cálculo do Preço Final"
   ]
  },
  {
   "cell_type": "code",
   "execution_count": 73,
   "metadata": {},
   "outputs": [
    {
     "data": {
      "text/html": [
       "<div>\n",
       "<style scoped>\n",
       "    .dataframe tbody tr th:only-of-type {\n",
       "        vertical-align: middle;\n",
       "    }\n",
       "\n",
       "    .dataframe tbody tr th {\n",
       "        vertical-align: top;\n",
       "    }\n",
       "\n",
       "    .dataframe thead th {\n",
       "        text-align: right;\n",
       "    }\n",
       "</style>\n",
       "<table border=\"1\" class=\"dataframe\">\n",
       "  <thead>\n",
       "    <tr style=\"text-align: right;\">\n",
       "      <th></th>\n",
       "      <th>Produtos</th>\n",
       "      <th>Preço Original</th>\n",
       "      <th>Moeda</th>\n",
       "      <th>Cotação</th>\n",
       "      <th>Preço de Compra</th>\n",
       "      <th>Margem</th>\n",
       "      <th>Preço de Venda</th>\n",
       "    </tr>\n",
       "  </thead>\n",
       "  <tbody>\n",
       "    <tr>\n",
       "      <th>0</th>\n",
       "      <td>Câmera Canon</td>\n",
       "      <td>999.99</td>\n",
       "      <td>Dólar</td>\n",
       "      <td>5.011600</td>\n",
       "      <td>5011.549884</td>\n",
       "      <td>1.40</td>\n",
       "      <td>7016.169838</td>\n",
       "    </tr>\n",
       "    <tr>\n",
       "      <th>1</th>\n",
       "      <td>Carro Renault</td>\n",
       "      <td>4500.00</td>\n",
       "      <td>Euro</td>\n",
       "      <td>5.512098</td>\n",
       "      <td>24804.443106</td>\n",
       "      <td>2.00</td>\n",
       "      <td>49608.886212</td>\n",
       "    </tr>\n",
       "    <tr>\n",
       "      <th>2</th>\n",
       "      <td>Notebook Dell</td>\n",
       "      <td>899.99</td>\n",
       "      <td>Dólar</td>\n",
       "      <td>5.011600</td>\n",
       "      <td>4510.389884</td>\n",
       "      <td>1.70</td>\n",
       "      <td>7667.662803</td>\n",
       "    </tr>\n",
       "    <tr>\n",
       "      <th>3</th>\n",
       "      <td>IPhone</td>\n",
       "      <td>799.00</td>\n",
       "      <td>Dólar</td>\n",
       "      <td>5.011600</td>\n",
       "      <td>4004.268400</td>\n",
       "      <td>1.70</td>\n",
       "      <td>6807.256280</td>\n",
       "    </tr>\n",
       "    <tr>\n",
       "      <th>4</th>\n",
       "      <td>Carro Fiat</td>\n",
       "      <td>3000.00</td>\n",
       "      <td>Euro</td>\n",
       "      <td>5.512098</td>\n",
       "      <td>16536.295404</td>\n",
       "      <td>1.90</td>\n",
       "      <td>31418.961268</td>\n",
       "    </tr>\n",
       "    <tr>\n",
       "      <th>5</th>\n",
       "      <td>Celular Xiaomi</td>\n",
       "      <td>480.48</td>\n",
       "      <td>Dólar</td>\n",
       "      <td>5.011600</td>\n",
       "      <td>2407.973568</td>\n",
       "      <td>2.00</td>\n",
       "      <td>4815.947136</td>\n",
       "    </tr>\n",
       "    <tr>\n",
       "      <th>6</th>\n",
       "      <td>Joia 20g</td>\n",
       "      <td>20.00</td>\n",
       "      <td>Ouro</td>\n",
       "      <td>324.630000</td>\n",
       "      <td>6492.600000</td>\n",
       "      <td>1.15</td>\n",
       "      <td>7466.490000</td>\n",
       "    </tr>\n",
       "  </tbody>\n",
       "</table>\n",
       "</div>"
      ],
      "text/plain": [
       "         Produtos  Preço Original  Moeda     Cotação  Preço de Compra  Margem  \\\n",
       "0    Câmera Canon          999.99  Dólar    5.011600      5011.549884    1.40   \n",
       "1   Carro Renault         4500.00   Euro    5.512098     24804.443106    2.00   \n",
       "2   Notebook Dell          899.99  Dólar    5.011600      4510.389884    1.70   \n",
       "3          IPhone          799.00  Dólar    5.011600      4004.268400    1.70   \n",
       "4      Carro Fiat         3000.00   Euro    5.512098     16536.295404    1.90   \n",
       "5  Celular Xiaomi          480.48  Dólar    5.011600      2407.973568    2.00   \n",
       "6        Joia 20g           20.00   Ouro  324.630000      6492.600000    1.15   \n",
       "\n",
       "   Preço de Venda  \n",
       "0     7016.169838  \n",
       "1    49608.886212  \n",
       "2     7667.662803  \n",
       "3     6807.256280  \n",
       "4    31418.961268  \n",
       "5     4815.947136  \n",
       "6     7466.490000  "
      ]
     },
     "metadata": {},
     "output_type": "display_data"
    }
   ],
   "source": [
    "#Atualizando cotação do dólar\n",
    "tabela.loc[tabela[\"Moeda\"] == \"Dólar\", \"Cotação\"] = float(cot_dolar)\n",
    "#Atualizando cotação do euro\n",
    "tabela.loc[tabela[\"Moeda\"] == \"Euro\", \"Cotação\"] = float(cot_euro)\n",
    "#Atualizando cotação do ouro\n",
    "tabela.loc[tabela[\"Moeda\"] == \"Ouro\", \"Cotação\"] = float(cot_ouro)\n",
    "#Atualizando preço de compra \n",
    "tabela[\"Preço de Compra\"]= tabela[\"Preço Original\"] * tabela[\"Cotação\"]\n",
    "#Atualizando preço de venda \n",
    "tabela[\"Preço de Venda\"]= tabela[\"Preço de Compra\"] * tabela[\"Margem\"]\n",
    "display(tabela)"
   ]
  },
  {
   "cell_type": "markdown",
   "metadata": {},
   "source": [
    "### Exportando a nova base de dados atualizada"
   ]
  },
  {
   "cell_type": "code",
   "execution_count": 74,
   "metadata": {},
   "outputs": [],
   "source": [
    "tabela.to_excel(\"Produtos'Novo'.xlsx\", index = 0)"
   ]
  }
 ],
 "metadata": {
  "kernelspec": {
   "display_name": "Python 3 (ipykernel)",
   "language": "python",
   "name": "python3"
  },
  "language_info": {
   "codemirror_mode": {
    "name": "ipython",
    "version": 3
   },
   "file_extension": ".py",
   "mimetype": "text/x-python",
   "name": "python",
   "nbconvert_exporter": "python",
   "pygments_lexer": "ipython3",
   "version": "3.9.7"
  }
 },
 "nbformat": 4,
 "nbformat_minor": 4
}
